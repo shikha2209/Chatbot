{
  "nbformat": 4,
  "nbformat_minor": 0,
  "metadata": {
    "colab": {
      "name": "chatbot.ipynb",
      "provenance": []
    },
    "kernelspec": {
      "name": "python3",
      "display_name": "Python 3"
    },
    "language_info": {
      "name": "python"
    }
  },
  "cells": [
    {
      "cell_type": "code",
      "metadata": {
        "id": "eZN29scrAGUk"
      },
      "source": [
        "import numpy as np\n",
        "import nltk\n",
        "import string\n",
        "import random"
      ],
      "execution_count": null,
      "outputs": []
    },
    {
      "cell_type": "markdown",
      "metadata": {
        "id": "ZaS88G0fHaY4"
      },
      "source": [
        "## **Import and reading corpus**"
      ]
    },
    {
      "cell_type": "code",
      "metadata": {
        "colab": {
          "base_uri": "https://localhost:8080/"
        },
        "id": "UmbwJOS8Bm9H",
        "outputId": "14111cd3-748a-4949-b609-c76e8a915c29"
      },
      "source": [
        "f = open('chatbot.txt','r', errors='ignore')\n",
        "raw_doc=f.read()\n",
        "raw_doc=raw_doc.lower()\n",
        "nltk.download('punkt')\n",
        "nltk.download('wordnet')\n",
        "sent_tokens=nltk.sent_tokenize(raw_doc)\n",
        "word_tokens=nltk.word_tokenize(raw_doc)"
      ],
      "execution_count": null,
      "outputs": [
        {
          "output_type": "stream",
          "text": [
            "[nltk_data] Downloading package punkt to /root/nltk_data...\n",
            "[nltk_data]   Unzipping tokenizers/punkt.zip.\n",
            "[nltk_data] Downloading package wordnet to /root/nltk_data...\n",
            "[nltk_data]   Unzipping corpora/wordnet.zip.\n"
          ],
          "name": "stdout"
        }
      ]
    },
    {
      "cell_type": "markdown",
      "metadata": {
        "id": "4_WOL88kHIXB"
      },
      "source": [
        "# **Example of sentance token**"
      ]
    },
    {
      "cell_type": "code",
      "metadata": {
        "colab": {
          "base_uri": "https://localhost:8080/"
        },
        "id": "1FVONzruDF-V",
        "outputId": "ccc6b50f-6fb0-4467-ae82-814205f32f95"
      },
      "source": [
        "sent_tokens[:2]"
      ],
      "execution_count": null,
      "outputs": [
        {
          "output_type": "execute_result",
          "data": {
            "text/plain": [
              "['data science is an interdisciplinary field that uses scientific methods, processes, algorithms and systems to extract knowledge and insights from structured and unstructured data,[1][2] and apply knowledge and actionable insights from data across a broad range of application domains.',\n",
              " 'data science is related to data mining, machine learning and big data.']"
            ]
          },
          "metadata": {
            "tags": []
          },
          "execution_count": 10
        }
      ]
    },
    {
      "cell_type": "markdown",
      "metadata": {
        "id": "xvZ8qRWsHzVj"
      },
      "source": [
        "# **Example of word token**"
      ]
    },
    {
      "cell_type": "code",
      "metadata": {
        "colab": {
          "base_uri": "https://localhost:8080/"
        },
        "id": "VAqAfbGQH9rS",
        "outputId": "c0a64fad-0240-4082-b01a-31681439f164"
      },
      "source": [
        "word_tokens[:2]"
      ],
      "execution_count": null,
      "outputs": [
        {
          "output_type": "execute_result",
          "data": {
            "text/plain": [
              "['data', 'science']"
            ]
          },
          "metadata": {
            "tags": []
          },
          "execution_count": 9
        }
      ]
    },
    {
      "cell_type": "markdown",
      "metadata": {
        "id": "2Ff8L1YfIV-3"
      },
      "source": [
        "# **Text processing**"
      ]
    },
    {
      "cell_type": "code",
      "metadata": {
        "id": "wvCfbPWeH9ud"
      },
      "source": [
        "lemmer= nltk.stem.WordNetLemmatizer()\n",
        "def LemTokens(tokens):\n",
        "    return [lemmer.lemmatize(token) for token in tokens]\n",
        "    remove_punct_dict=dict((ord(punct), None) for punct in string.punctuation)\n",
        "    def LemNormalize(text):\n",
        "         return LemTokens(nltk.word_tokenize(text.lower().translate(remove_punct_dict)))"
      ],
      "execution_count": null,
      "outputs": []
    },
    {
      "cell_type": "markdown",
      "metadata": {
        "id": "JJiafX8NRIHw"
      },
      "source": [
        "## **Defining the greeting function**"
      ]
    },
    {
      "cell_type": "code",
      "metadata": {
        "id": "BORkKvHPH9yk"
      },
      "source": [
        "greet_inputs=(\"hello\",\"hi\",\"greetingd\",\"sup\",\"what's up\",\"hey\")\n",
        "greet_responses=[\"hi\",\"hey\",\"nods\",\"hi there\",\"hello\",\"i am glad! you are talking to me\"]\n",
        "def greet(sentence):\n",
        "\n",
        "       for word in sentence.split():\n",
        "          if word.lower() in greet_inputs:\n",
        "            return random.choice(greet_responses)"
      ],
      "execution_count": null,
      "outputs": []
    },
    {
      "cell_type": "code",
      "metadata": {
        "id": "4cBuDQ21SRzT"
      },
      "source": [
        "from sklearn.feature_extraction.text import TfidfVectorizer\n",
        "from sklearn.metrics.pairwise import cosine_similarity"
      ],
      "execution_count": null,
      "outputs": []
    },
    {
      "cell_type": "code",
      "metadata": {
        "id": "yZDce4y-S52G"
      },
      "source": [
        "def responses(user_response):\n",
        "  robo1_responses=''\n",
        "  TfidfVec = TfidfVectorizer(tokenizer=LemNormalize, stop_words='english')\n",
        "  tfidf= TfidfVec.fit_transform(sent_tokens)\n",
        "  vals= cosine_similarity(tfidf[-1],tfidf)\n",
        "  idx=vals.argsort()[0][-2]\n",
        "  flat=vals.flatten()\n",
        "  flat.sort()\n",
        "  req_tfidf = flat[-2]\n",
        "  if(req_tfidf==0):\n",
        "    robo1_responses=robo1_response+\" Iam sorry ! I dont understand you\"\n",
        "    return robo1_response\n",
        "  else :\n",
        "    robo1_response=robo1_response+sent_tokens[idx]\n",
        "    return robo1_response"
      ],
      "execution_count": null,
      "outputs": []
    },
    {
      "cell_type": "markdown",
      "metadata": {
        "id": "xHqggLfvVYah"
      },
      "source": [
        "## **start conversation/ ends protocols**"
      ]
    },
    {
      "cell_type": "code",
      "metadata": {
        "colab": {
          "base_uri": "https://localhost:8080/"
        },
        "id": "FWs7f3f9UBbw",
        "outputId": "0463bf01-2974-400c-ff82-62de925e4d7c"
      },
      "source": [
        "flag = True \n",
        "print(\"Bot: My Name is strack. Let's have a conversation! Also , if you want to exit any time , just type bye!\")\n",
        "while(flag==True):\n",
        "   user_response = input()\n",
        "   user_response=user_response.lower()\n",
        "   if (user_response!='bye'):\n",
        "     if(user_response=='thanks' or user_response=='thank you'):\n",
        "       flag==False\n",
        "       print(\"Bot: You are welcomr. .\")\n",
        "     else:\n",
        "          if(greet(user_response)!=None):\n",
        "             print(\"Bot:\"+greet(user_response))\n",
        "          else:\n",
        "            sent_tokens.append(user_response)\n",
        "            word_tokens=word_tokens+nltk.word_tokenize(user_response)\n",
        "            final_words=list(set(word_tokens))\n",
        "            print(\"Bot:\",end=\"\")\n",
        "            print(response(user_response))\n",
        "            sent_tokens.remove(user_response)\n",
        "else: \n",
        "            flag=False\n",
        "            print(\"Bot: Goodbye ! take care <3 \")\n",
        "\n"
      ],
      "execution_count": null,
      "outputs": [
        {
          "output_type": "stream",
          "text": [
            "Bot: My Name is strack. Let's have a conversation! Also , if you want to exit any time , just type bye!\n"
          ],
          "name": "stdout"
        }
      ]
    }
  ]
}